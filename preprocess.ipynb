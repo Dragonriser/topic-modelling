{
 "cells": [
  {
   "cell_type": "code",
   "execution_count": 1,
   "metadata": {
    "pycharm": {
     "is_executing": false
    }
   },
   "outputs": [],
   "source": [
    "# packages to store and manipulate data\n",
    "import pandas as pd\n",
    "import numpy as np\n",
    "\n",
    "# plotting packages\n",
    "import matplotlib.pyplot as plt\n",
    "import seaborn as sns\n",
    "\n",
    "# model building package\n",
    "import sklearn\n",
    "\n",
    "# package to clean text\n",
    "import re"
   ]
  },
  {
   "cell_type": "code",
   "execution_count": 2,
   "metadata": {
    "pycharm": {
     "is_executing": false,
     "name": "#%%\n"
    }
   },
   "outputs": [],
   "source": [
    "data = pd.read_csv('data/brandarrest_twitter_data.csv')"
   ]
  },
  {
   "cell_type": "code",
   "execution_count": 3,
   "metadata": {
    "pycharm": {
     "is_executing": false
    }
   },
   "outputs": [
    {
     "data": {
      "text/html": [
       "<div>\n",
       "<style scoped>\n",
       "    .dataframe tbody tr th:only-of-type {\n",
       "        vertical-align: middle;\n",
       "    }\n",
       "\n",
       "    .dataframe tbody tr th {\n",
       "        vertical-align: top;\n",
       "    }\n",
       "\n",
       "    .dataframe thead th {\n",
       "        text-align: right;\n",
       "    }\n",
       "</style>\n",
       "<table border=\"1\" class=\"dataframe\">\n",
       "  <thead>\n",
       "    <tr style=\"text-align: right;\">\n",
       "      <th></th>\n",
       "      <th>created_at</th>\n",
       "      <th>id</th>\n",
       "      <th>id_str</th>\n",
       "      <th>full_text</th>\n",
       "      <th>truncated</th>\n",
       "      <th>display_text_range</th>\n",
       "      <th>entities</th>\n",
       "      <th>metadata</th>\n",
       "      <th>source</th>\n",
       "      <th>in_reply_to_status_id</th>\n",
       "      <th>...</th>\n",
       "      <th>category</th>\n",
       "      <th>action_required</th>\n",
       "      <th>extended_entities</th>\n",
       "      <th>possibly_sensitive</th>\n",
       "      <th>quoted_status_id</th>\n",
       "      <th>quoted_status_id_str</th>\n",
       "      <th>quoted_status</th>\n",
       "      <th>tenant_name</th>\n",
       "      <th>search_id</th>\n",
       "      <th>load_date</th>\n",
       "    </tr>\n",
       "  </thead>\n",
       "  <tbody>\n",
       "    <tr>\n",
       "      <th>0</th>\n",
       "      <td>Sat Aug 24 05:28:19 +0000 2019</td>\n",
       "      <td>1165133716173283328</td>\n",
       "      <td>1165133716173283328</td>\n",
       "      <td>I have taken it up with @fccpcnigeria . Hopefu...</td>\n",
       "      <td>False</td>\n",
       "      <td>[0, 170]</td>\n",
       "      <td>{hashtags=[], symbols=[], user_mentions=[{scre...</td>\n",
       "      <td>{iso_language_code=en, result_type=recent}</td>\n",
       "      <td>&lt;a href=\"http://twitter.com/download/android\" ...</td>\n",
       "      <td>1.165134e+18</td>\n",
       "      <td>...</td>\n",
       "      <td>Twitter</td>\n",
       "      <td>Dissatisfied Customer</td>\n",
       "      <td>NaN</td>\n",
       "      <td>NaN</td>\n",
       "      <td>NaN</td>\n",
       "      <td>NaN</td>\n",
       "      <td>NaN</td>\n",
       "      <td>cpc</td>\n",
       "      <td>d8d0c72f-ed49-4a5b-b2e2-c0a53ca304ce</td>\n",
       "      <td>2019-08-24</td>\n",
       "    </tr>\n",
       "    <tr>\n",
       "      <th>1</th>\n",
       "      <td>Sat Aug 24 05:22:35 +0000 2019</td>\n",
       "      <td>1165132273538260992</td>\n",
       "      <td>1165132273538260992</td>\n",
       "      <td>@sanctitybona @enugudisco @PowerUpNG @nepawaha...</td>\n",
       "      <td>False</td>\n",
       "      <td>[73, 267]</td>\n",
       "      <td>{hashtags=[], symbols=[], user_mentions=[{scre...</td>\n",
       "      <td>{iso_language_code=en, result_type=recent}</td>\n",
       "      <td>&lt;a href=\"http://twitter.com/download/android\" ...</td>\n",
       "      <td>1.164944e+18</td>\n",
       "      <td>...</td>\n",
       "      <td>Twitter</td>\n",
       "      <td>NaN</td>\n",
       "      <td>{media=[{id=1165132088795947009, id_str=116513...</td>\n",
       "      <td>False</td>\n",
       "      <td>NaN</td>\n",
       "      <td>NaN</td>\n",
       "      <td>NaN</td>\n",
       "      <td>cpc</td>\n",
       "      <td>d8d0c72f-ed49-4a5b-b2e2-c0a53ca304ce</td>\n",
       "      <td>2019-08-24</td>\n",
       "    </tr>\n",
       "    <tr>\n",
       "      <th>2</th>\n",
       "      <td>Fri Aug 09 18:01:30 +0000 2019</td>\n",
       "      <td>1159887443069456385</td>\n",
       "      <td>1159887443069456385</td>\n",
       "      <td>@ChickenRepublic Dear @fccpcnigeria kindly advise</td>\n",
       "      <td>False</td>\n",
       "      <td>[17, 49]</td>\n",
       "      <td>{hashtags=[], symbols=[], user_mentions=[{scre...</td>\n",
       "      <td>{iso_language_code=en, result_type=recent}</td>\n",
       "      <td>&lt;a href=\"http://twitter.com/download/iphone\" r...</td>\n",
       "      <td>1.159790e+18</td>\n",
       "      <td>...</td>\n",
       "      <td>Twitter</td>\n",
       "      <td>NaN</td>\n",
       "      <td>NaN</td>\n",
       "      <td>NaN</td>\n",
       "      <td>NaN</td>\n",
       "      <td>NaN</td>\n",
       "      <td>NaN</td>\n",
       "      <td>cpc</td>\n",
       "      <td>d8d0c72f-ed49-4a5b-b2e2-c0a53ca304ce</td>\n",
       "      <td>2019-08-09</td>\n",
       "    </tr>\n",
       "    <tr>\n",
       "      <th>3</th>\n",
       "      <td>Fri Aug 09 17:48:03 +0000 2019</td>\n",
       "      <td>1159884055481110528</td>\n",
       "      <td>1159884055481110528</td>\n",
       "      <td>@ChickenRepublic @CocaCola @CocaCola_NG @fccpc...</td>\n",
       "      <td>False</td>\n",
       "      <td>[53, 53]</td>\n",
       "      <td>{hashtags=[], symbols=[], user_mentions=[{scre...</td>\n",
       "      <td>{iso_language_code=und, result_type=recent}</td>\n",
       "      <td>&lt;a href=\"http://twitter.com/download/iphone\" r...</td>\n",
       "      <td>1.159884e+18</td>\n",
       "      <td>...</td>\n",
       "      <td>Twitter</td>\n",
       "      <td>NaN</td>\n",
       "      <td>{media=[{id=1159884046643671046, id_str=115988...</td>\n",
       "      <td>False</td>\n",
       "      <td>NaN</td>\n",
       "      <td>NaN</td>\n",
       "      <td>NaN</td>\n",
       "      <td>cpc</td>\n",
       "      <td>d8d0c72f-ed49-4a5b-b2e2-c0a53ca304ce</td>\n",
       "      <td>2019-08-09</td>\n",
       "    </tr>\n",
       "    <tr>\n",
       "      <th>4</th>\n",
       "      <td>Fri Aug 09 17:47:12 +0000 2019</td>\n",
       "      <td>1159883842725044225</td>\n",
       "      <td>1159883842725044225</td>\n",
       "      <td>@ChickenRepublic @CocaCola @CocaCola_NG @fccpc...</td>\n",
       "      <td>False</td>\n",
       "      <td>[40, 53]</td>\n",
       "      <td>{hashtags=[], symbols=[], user_mentions=[{scre...</td>\n",
       "      <td>{iso_language_code=und, result_type=recent}</td>\n",
       "      <td>&lt;a href=\"http://twitter.com/download/iphone\" r...</td>\n",
       "      <td>1.159883e+18</td>\n",
       "      <td>...</td>\n",
       "      <td>Twitter</td>\n",
       "      <td>NaN</td>\n",
       "      <td>NaN</td>\n",
       "      <td>NaN</td>\n",
       "      <td>NaN</td>\n",
       "      <td>NaN</td>\n",
       "      <td>NaN</td>\n",
       "      <td>cpc</td>\n",
       "      <td>d8d0c72f-ed49-4a5b-b2e2-c0a53ca304ce</td>\n",
       "      <td>2019-08-09</td>\n",
       "    </tr>\n",
       "  </tbody>\n",
       "</table>\n",
       "<p>5 rows × 40 columns</p>\n",
       "</div>"
      ],
      "text/plain": [
       "                       created_at                   id               id_str  \\\n",
       "0  Sat Aug 24 05:28:19 +0000 2019  1165133716173283328  1165133716173283328   \n",
       "1  Sat Aug 24 05:22:35 +0000 2019  1165132273538260992  1165132273538260992   \n",
       "2  Fri Aug 09 18:01:30 +0000 2019  1159887443069456385  1159887443069456385   \n",
       "3  Fri Aug 09 17:48:03 +0000 2019  1159884055481110528  1159884055481110528   \n",
       "4  Fri Aug 09 17:47:12 +0000 2019  1159883842725044225  1159883842725044225   \n",
       "\n",
       "                                           full_text  truncated  \\\n",
       "0  I have taken it up with @fccpcnigeria . Hopefu...      False   \n",
       "1  @sanctitybona @enugudisco @PowerUpNG @nepawaha...      False   \n",
       "2  @ChickenRepublic Dear @fccpcnigeria kindly advise      False   \n",
       "3  @ChickenRepublic @CocaCola @CocaCola_NG @fccpc...      False   \n",
       "4  @ChickenRepublic @CocaCola @CocaCola_NG @fccpc...      False   \n",
       "\n",
       "  display_text_range                                           entities  \\\n",
       "0           [0, 170]  {hashtags=[], symbols=[], user_mentions=[{scre...   \n",
       "1          [73, 267]  {hashtags=[], symbols=[], user_mentions=[{scre...   \n",
       "2           [17, 49]  {hashtags=[], symbols=[], user_mentions=[{scre...   \n",
       "3           [53, 53]  {hashtags=[], symbols=[], user_mentions=[{scre...   \n",
       "4           [40, 53]  {hashtags=[], symbols=[], user_mentions=[{scre...   \n",
       "\n",
       "                                      metadata  \\\n",
       "0   {iso_language_code=en, result_type=recent}   \n",
       "1   {iso_language_code=en, result_type=recent}   \n",
       "2   {iso_language_code=en, result_type=recent}   \n",
       "3  {iso_language_code=und, result_type=recent}   \n",
       "4  {iso_language_code=und, result_type=recent}   \n",
       "\n",
       "                                              source  in_reply_to_status_id  \\\n",
       "0  <a href=\"http://twitter.com/download/android\" ...           1.165134e+18   \n",
       "1  <a href=\"http://twitter.com/download/android\" ...           1.164944e+18   \n",
       "2  <a href=\"http://twitter.com/download/iphone\" r...           1.159790e+18   \n",
       "3  <a href=\"http://twitter.com/download/iphone\" r...           1.159884e+18   \n",
       "4  <a href=\"http://twitter.com/download/iphone\" r...           1.159883e+18   \n",
       "\n",
       "   ...  category        action_required  \\\n",
       "0  ...   Twitter  Dissatisfied Customer   \n",
       "1  ...   Twitter                    NaN   \n",
       "2  ...   Twitter                    NaN   \n",
       "3  ...   Twitter                    NaN   \n",
       "4  ...   Twitter                    NaN   \n",
       "\n",
       "                                   extended_entities possibly_sensitive  \\\n",
       "0                                                NaN                NaN   \n",
       "1  {media=[{id=1165132088795947009, id_str=116513...              False   \n",
       "2                                                NaN                NaN   \n",
       "3  {media=[{id=1159884046643671046, id_str=115988...              False   \n",
       "4                                                NaN                NaN   \n",
       "\n",
       "  quoted_status_id quoted_status_id_str quoted_status tenant_name  \\\n",
       "0              NaN                  NaN           NaN         cpc   \n",
       "1              NaN                  NaN           NaN         cpc   \n",
       "2              NaN                  NaN           NaN         cpc   \n",
       "3              NaN                  NaN           NaN         cpc   \n",
       "4              NaN                  NaN           NaN         cpc   \n",
       "\n",
       "                              search_id   load_date  \n",
       "0  d8d0c72f-ed49-4a5b-b2e2-c0a53ca304ce  2019-08-24  \n",
       "1  d8d0c72f-ed49-4a5b-b2e2-c0a53ca304ce  2019-08-24  \n",
       "2  d8d0c72f-ed49-4a5b-b2e2-c0a53ca304ce  2019-08-09  \n",
       "3  d8d0c72f-ed49-4a5b-b2e2-c0a53ca304ce  2019-08-09  \n",
       "4  d8d0c72f-ed49-4a5b-b2e2-c0a53ca304ce  2019-08-09  \n",
       "\n",
       "[5 rows x 40 columns]"
      ]
     },
     "execution_count": 3,
     "metadata": {},
     "output_type": "execute_result"
    }
   ],
   "source": [
    "data.head()"
   ]
  },
  {
   "cell_type": "code",
   "execution_count": 4,
   "metadata": {
    "pycharm": {
     "is_executing": false
    }
   },
   "outputs": [
    {
     "data": {
      "text/html": [
       "<div>\n",
       "<style scoped>\n",
       "    .dataframe tbody tr th:only-of-type {\n",
       "        vertical-align: middle;\n",
       "    }\n",
       "\n",
       "    .dataframe tbody tr th {\n",
       "        vertical-align: top;\n",
       "    }\n",
       "\n",
       "    .dataframe thead th {\n",
       "        text-align: right;\n",
       "    }\n",
       "</style>\n",
       "<table border=\"1\" class=\"dataframe\">\n",
       "  <thead>\n",
       "    <tr style=\"text-align: right;\">\n",
       "      <th></th>\n",
       "      <th>created_at</th>\n",
       "      <th>full_text</th>\n",
       "    </tr>\n",
       "  </thead>\n",
       "  <tbody>\n",
       "    <tr>\n",
       "      <th>0</th>\n",
       "      <td>Sat Aug 24 05:28:19 +0000 2019</td>\n",
       "      <td>I have taken it up with @fccpcnigeria . Hopefu...</td>\n",
       "    </tr>\n",
       "    <tr>\n",
       "      <th>1</th>\n",
       "      <td>Sat Aug 24 05:22:35 +0000 2019</td>\n",
       "      <td>@sanctitybona @enugudisco @PowerUpNG @nepawaha...</td>\n",
       "    </tr>\n",
       "    <tr>\n",
       "      <th>2</th>\n",
       "      <td>Fri Aug 09 18:01:30 +0000 2019</td>\n",
       "      <td>@ChickenRepublic Dear @fccpcnigeria kindly advise</td>\n",
       "    </tr>\n",
       "    <tr>\n",
       "      <th>3</th>\n",
       "      <td>Fri Aug 09 17:48:03 +0000 2019</td>\n",
       "      <td>@ChickenRepublic @CocaCola @CocaCola_NG @fccpc...</td>\n",
       "    </tr>\n",
       "    <tr>\n",
       "      <th>4</th>\n",
       "      <td>Fri Aug 09 17:47:12 +0000 2019</td>\n",
       "      <td>@ChickenRepublic @CocaCola @CocaCola_NG @fccpc...</td>\n",
       "    </tr>\n",
       "  </tbody>\n",
       "</table>\n",
       "</div>"
      ],
      "text/plain": [
       "                       created_at  \\\n",
       "0  Sat Aug 24 05:28:19 +0000 2019   \n",
       "1  Sat Aug 24 05:22:35 +0000 2019   \n",
       "2  Fri Aug 09 18:01:30 +0000 2019   \n",
       "3  Fri Aug 09 17:48:03 +0000 2019   \n",
       "4  Fri Aug 09 17:47:12 +0000 2019   \n",
       "\n",
       "                                           full_text  \n",
       "0  I have taken it up with @fccpcnigeria . Hopefu...  \n",
       "1  @sanctitybona @enugudisco @PowerUpNG @nepawaha...  \n",
       "2  @ChickenRepublic Dear @fccpcnigeria kindly advise  \n",
       "3  @ChickenRepublic @CocaCola @CocaCola_NG @fccpc...  \n",
       "4  @ChickenRepublic @CocaCola @CocaCola_NG @fccpc...  "
      ]
     },
     "execution_count": 4,
     "metadata": {},
     "output_type": "execute_result"
    }
   ],
   "source": [
    "tweets = data[['created_at','full_text']]\n",
    "tweets.head()"
   ]
  },
  {
   "cell_type": "code",
   "execution_count": 5,
   "metadata": {
    "pycharm": {
     "is_executing": false
    }
   },
   "outputs": [
    {
     "data": {
      "text/plain": [
       "created_at                       Mon Oct 14 09:47:50 +0000 2019\n",
       "full_text     @iambashua Good morning. Kindly be informed th...\n",
       "Name: 11, dtype: object"
      ]
     },
     "execution_count": 5,
     "metadata": {},
     "output_type": "execute_result"
    }
   ],
   "source": [
    "tweets.iloc[11]"
   ]
  },
  {
   "cell_type": "markdown",
   "metadata": {},
   "source": [
    "# EDA"
   ]
  },
  {
   "cell_type": "code",
   "execution_count": 6,
   "metadata": {
    "pycharm": {
     "is_executing": false
    }
   },
   "outputs": [
    {
     "data": {
      "text/html": [
       "<div>\n",
       "<style scoped>\n",
       "    .dataframe tbody tr th:only-of-type {\n",
       "        vertical-align: middle;\n",
       "    }\n",
       "\n",
       "    .dataframe tbody tr th {\n",
       "        vertical-align: top;\n",
       "    }\n",
       "\n",
       "    .dataframe thead th {\n",
       "        text-align: right;\n",
       "    }\n",
       "</style>\n",
       "<table border=\"1\" class=\"dataframe\">\n",
       "  <thead>\n",
       "    <tr style=\"text-align: right;\">\n",
       "      <th></th>\n",
       "      <th>created_at</th>\n",
       "      <th>full_text</th>\n",
       "    </tr>\n",
       "  </thead>\n",
       "  <tbody>\n",
       "    <tr>\n",
       "      <th>199980</th>\n",
       "      <td>Wed Feb 27 12:50:24 +0000 2019</td>\n",
       "      <td>@Bet9jaOfficial I deposit 250 naira into my be...</td>\n",
       "    </tr>\n",
       "    <tr>\n",
       "      <th>199981</th>\n",
       "      <td>Wed Feb 27 12:48:32 +0000 2019</td>\n",
       "      <td>Me when I'm confused of which team to pick in ...</td>\n",
       "    </tr>\n",
       "    <tr>\n",
       "      <th>199982</th>\n",
       "      <td>Wed Feb 27 12:46:40 +0000 2019</td>\n",
       "      <td>Hmm @Bet9jaHelp What's the meaning of this oh ...</td>\n",
       "    </tr>\n",
       "    <tr>\n",
       "      <th>199983</th>\n",
       "      <td>Wed Feb 27 12:43:56 +0000 2019</td>\n",
       "      <td>@Bet9jaOfficial Abou diaby</td>\n",
       "    </tr>\n",
       "    <tr>\n",
       "      <th>199984</th>\n",
       "      <td>Wed Feb 27 12:32:59 +0000 2019</td>\n",
       "      <td>@BBNaija @Bet9jaOfficial Scam oh</td>\n",
       "    </tr>\n",
       "    <tr>\n",
       "      <th>199985</th>\n",
       "      <td>Wed Feb 27 12:27:05 +0000 2019</td>\n",
       "      <td>@Bet9jaOfficial Diaby</td>\n",
       "    </tr>\n",
       "    <tr>\n",
       "      <th>199986</th>\n",
       "      <td>Wed Feb 27 12:25:51 +0000 2019</td>\n",
       "      <td>@Bet9jaHelp The transaction doesn't show on th...</td>\n",
       "    </tr>\n",
       "    <tr>\n",
       "      <th>199987</th>\n",
       "      <td>Wed Feb 27 12:18:32 +0000 2019</td>\n",
       "      <td>@Tscopecoded Send me bookings too. Bet9ja 😁</td>\n",
       "    </tr>\n",
       "    <tr>\n",
       "      <th>199988</th>\n",
       "      <td>Wed Feb 27 12:15:38 +0000 2019</td>\n",
       "      <td>Our 100% fixed games are available u could be ...</td>\n",
       "    </tr>\n",
       "    <tr>\n",
       "      <th>199989</th>\n",
       "      <td>Wed Feb 27 12:14:11 +0000 2019</td>\n",
       "      <td>@Bet9jaHelp my account (6342375) wasn’t credit...</td>\n",
       "    </tr>\n",
       "    <tr>\n",
       "      <th>199990</th>\n",
       "      <td>Sat Jul 27 23:27:30 +0000 2019</td>\n",
       "      <td>@BBNaijaTv @Bet9jaOfficial Drama will soon sta...</td>\n",
       "    </tr>\n",
       "    <tr>\n",
       "      <th>199991</th>\n",
       "      <td>Sat Jul 27 23:26:06 +0000 2019</td>\n",
       "      <td>Watch Ike secretly hiding Esther's stolen Coin...</td>\n",
       "    </tr>\n",
       "    <tr>\n",
       "      <th>199992</th>\n",
       "      <td>Sat Jul 27 23:24:21 +0000 2019</td>\n",
       "      <td>@the_slimcookie I do not think Mercy deserves ...</td>\n",
       "    </tr>\n",
       "    <tr>\n",
       "      <th>199993</th>\n",
       "      <td>Sat Jul 27 23:24:16 +0000 2019</td>\n",
       "      <td>#BBNaiija\\n#Tacha\\n#Mercy\\n@DONJAZZY\\n#DJKaywi...</td>\n",
       "    </tr>\n",
       "    <tr>\n",
       "      <th>199994</th>\n",
       "      <td>Sat Jul 27 23:23:34 +0000 2019</td>\n",
       "      <td>@BBNaija @Bet9jaOfficial British police woman ...</td>\n",
       "    </tr>\n",
       "    <tr>\n",
       "      <th>199995</th>\n",
       "      <td>Sat Jul 27 23:22:18 +0000 2019</td>\n",
       "      <td>@Bet9jaOfficial Who is she?</td>\n",
       "    </tr>\n",
       "    <tr>\n",
       "      <th>199996</th>\n",
       "      <td>Sat Jul 27 23:22:12 +0000 2019</td>\n",
       "      <td>@Bet9jaHelp @sir_obafoluke Please i need to kn...</td>\n",
       "    </tr>\n",
       "    <tr>\n",
       "      <th>199997</th>\n",
       "      <td>Sat Jul 27 23:22:11 +0000 2019</td>\n",
       "      <td>@BBNaija @Bet9jaOfficial Judas...I blame the s...</td>\n",
       "    </tr>\n",
       "    <tr>\n",
       "      <th>199998</th>\n",
       "      <td>Sat Jul 27 23:22:10 +0000 2019</td>\n",
       "      <td>@LeratoThakeli @AdedokunHammed4 Is does not pl...</td>\n",
       "    </tr>\n",
       "    <tr>\n",
       "      <th>199999</th>\n",
       "      <td>Sat Jul 27 23:21:09 +0000 2019</td>\n",
       "      <td>@hilda_adaora @BBNaija @Bet9jaOfficial Lol</td>\n",
       "    </tr>\n",
       "  </tbody>\n",
       "</table>\n",
       "</div>"
      ],
      "text/plain": [
       "                            created_at  \\\n",
       "199980  Wed Feb 27 12:50:24 +0000 2019   \n",
       "199981  Wed Feb 27 12:48:32 +0000 2019   \n",
       "199982  Wed Feb 27 12:46:40 +0000 2019   \n",
       "199983  Wed Feb 27 12:43:56 +0000 2019   \n",
       "199984  Wed Feb 27 12:32:59 +0000 2019   \n",
       "199985  Wed Feb 27 12:27:05 +0000 2019   \n",
       "199986  Wed Feb 27 12:25:51 +0000 2019   \n",
       "199987  Wed Feb 27 12:18:32 +0000 2019   \n",
       "199988  Wed Feb 27 12:15:38 +0000 2019   \n",
       "199989  Wed Feb 27 12:14:11 +0000 2019   \n",
       "199990  Sat Jul 27 23:27:30 +0000 2019   \n",
       "199991  Sat Jul 27 23:26:06 +0000 2019   \n",
       "199992  Sat Jul 27 23:24:21 +0000 2019   \n",
       "199993  Sat Jul 27 23:24:16 +0000 2019   \n",
       "199994  Sat Jul 27 23:23:34 +0000 2019   \n",
       "199995  Sat Jul 27 23:22:18 +0000 2019   \n",
       "199996  Sat Jul 27 23:22:12 +0000 2019   \n",
       "199997  Sat Jul 27 23:22:11 +0000 2019   \n",
       "199998  Sat Jul 27 23:22:10 +0000 2019   \n",
       "199999  Sat Jul 27 23:21:09 +0000 2019   \n",
       "\n",
       "                                                full_text  \n",
       "199980  @Bet9jaOfficial I deposit 250 naira into my be...  \n",
       "199981  Me when I'm confused of which team to pick in ...  \n",
       "199982  Hmm @Bet9jaHelp What's the meaning of this oh ...  \n",
       "199983                         @Bet9jaOfficial Abou diaby  \n",
       "199984                   @BBNaija @Bet9jaOfficial Scam oh  \n",
       "199985                              @Bet9jaOfficial Diaby  \n",
       "199986  @Bet9jaHelp The transaction doesn't show on th...  \n",
       "199987        @Tscopecoded Send me bookings too. Bet9ja 😁  \n",
       "199988  Our 100% fixed games are available u could be ...  \n",
       "199989  @Bet9jaHelp my account (6342375) wasn’t credit...  \n",
       "199990  @BBNaijaTv @Bet9jaOfficial Drama will soon sta...  \n",
       "199991  Watch Ike secretly hiding Esther's stolen Coin...  \n",
       "199992  @the_slimcookie I do not think Mercy deserves ...  \n",
       "199993  #BBNaiija\\n#Tacha\\n#Mercy\\n@DONJAZZY\\n#DJKaywi...  \n",
       "199994  @BBNaija @Bet9jaOfficial British police woman ...  \n",
       "199995                        @Bet9jaOfficial Who is she?  \n",
       "199996  @Bet9jaHelp @sir_obafoluke Please i need to kn...  \n",
       "199997  @BBNaija @Bet9jaOfficial Judas...I blame the s...  \n",
       "199998  @LeratoThakeli @AdedokunHammed4 Is does not pl...  \n",
       "199999         @hilda_adaora @BBNaija @Bet9jaOfficial Lol  "
      ]
     },
     "execution_count": 6,
     "metadata": {},
     "output_type": "execute_result"
    }
   ],
   "source": [
    "tweets.tail(20)"
   ]
  },
  {
   "cell_type": "code",
   "execution_count": 7,
   "metadata": {
    "pycharm": {
     "is_executing": false
    }
   },
   "outputs": [
    {
     "data": {
      "text/plain": [
       "(200000, 2)"
      ]
     },
     "execution_count": 7,
     "metadata": {},
     "output_type": "execute_result"
    }
   ],
   "source": [
    "# check df shape\n",
    "tweets.shape"
   ]
  },
  {
   "cell_type": "markdown",
   "metadata": {},
   "source": [
    "We should check how many of our tweets are unique because there could be retweets which are multiple copies of the same tweet"
   ]
  },
  {
   "cell_type": "code",
   "execution_count": 8,
   "metadata": {
    "pycharm": {
     "is_executing": false
    }
   },
   "outputs": [
    {
     "data": {
      "text/plain": [
       "(179585,)"
      ]
     },
     "execution_count": 8,
     "metadata": {},
     "output_type": "execute_result"
    }
   ],
   "source": [
    "tweets.full_text.unique().shape"
   ]
  },
  {
   "cell_type": "markdown",
   "metadata": {},
   "source": [
    "### Finding Retweets\n",
    "Find out how many tweets are retweets"
   ]
  },
  {
   "cell_type": "code",
   "execution_count": 9,
   "metadata": {
    "pycharm": {
     "is_executing": false
    }
   },
   "outputs": [
    {
     "name": "stderr",
     "output_type": "stream",
     "text": [
      "/Users/sasu/Desktop/Dev/ashPartners/venv/lib/python3.7/site-packages/ipykernel_launcher.py:2: SettingWithCopyWarning: \n",
      "A value is trying to be set on a copy of a slice from a DataFrame.\n",
      "Try using .loc[row_indexer,col_indexer] = value instead\n",
      "\n",
      "See the caveats in the documentation: http://pandas.pydata.org/pandas-docs/stable/user_guide/indexing.html#returning-a-view-versus-a-copy\n",
      "  \n"
     ]
    },
    {
     "data": {
      "text/plain": [
       "0"
      ]
     },
     "execution_count": 9,
     "metadata": {},
     "output_type": "execute_result"
    }
   ],
   "source": [
    "# make a new column to highlight retweets\n",
    "tweets['is_retweet'] = tweets['full_text'].apply(lambda x: x[:2]=='RT')\n",
    "tweets['is_retweet'].sum()  # number of retweets"
   ]
  },
  {
   "cell_type": "markdown",
   "metadata": {},
   "source": [
    "We can also see the most frequent tweets. Count number of times a tweet is duplicated and sort."
   ]
  },
  {
   "cell_type": "code",
   "execution_count": 10,
   "metadata": {
    "pycharm": {
     "is_executing": false
    }
   },
   "outputs": [
    {
     "data": {
      "text/html": [
       "<div>\n",
       "<style scoped>\n",
       "    .dataframe tbody tr th:only-of-type {\n",
       "        vertical-align: middle;\n",
       "    }\n",
       "\n",
       "    .dataframe tbody tr th {\n",
       "        vertical-align: top;\n",
       "    }\n",
       "\n",
       "    .dataframe thead th {\n",
       "        text-align: right;\n",
       "    }\n",
       "</style>\n",
       "<table border=\"1\" class=\"dataframe\">\n",
       "  <thead>\n",
       "    <tr style=\"text-align: right;\">\n",
       "      <th></th>\n",
       "      <th>full_text</th>\n",
       "      <th>counts</th>\n",
       "    </tr>\n",
       "  </thead>\n",
       "  <tbody>\n",
       "    <tr>\n",
       "      <th>41527</th>\n",
       "      <td>@Bet9jaOfficial B</td>\n",
       "      <td>285</td>\n",
       "    </tr>\n",
       "    <tr>\n",
       "      <th>22074</th>\n",
       "      <td>@Bet9jaHelp</td>\n",
       "      <td>248</td>\n",
       "    </tr>\n",
       "    <tr>\n",
       "      <th>42147</th>\n",
       "      <td>@Bet9jaOfficial C</td>\n",
       "      <td>218</td>\n",
       "    </tr>\n",
       "    <tr>\n",
       "      <th>40552</th>\n",
       "      <td>@Bet9jaOfficial A</td>\n",
       "      <td>208</td>\n",
       "    </tr>\n",
       "    <tr>\n",
       "      <th>48397</th>\n",
       "      <td>@Bet9jaOfficial Messi</td>\n",
       "      <td>123</td>\n",
       "    </tr>\n",
       "    <tr>\n",
       "      <th>9937</th>\n",
       "      <td>@BBNaija @Bet9jaOfficial Bisola</td>\n",
       "      <td>117</td>\n",
       "    </tr>\n",
       "    <tr>\n",
       "      <th>42043</th>\n",
       "      <td>@Bet9jaOfficial Brazil</td>\n",
       "      <td>111</td>\n",
       "    </tr>\n",
       "    <tr>\n",
       "      <th>9187</th>\n",
       "      <td>@BBNaija @Bet9jaOfficial Alex</td>\n",
       "      <td>74</td>\n",
       "    </tr>\n",
       "    <tr>\n",
       "      <th>46192</th>\n",
       "      <td>@Bet9jaOfficial Ike</td>\n",
       "      <td>74</td>\n",
       "    </tr>\n",
       "    <tr>\n",
       "      <th>49098</th>\n",
       "      <td>@Bet9jaOfficial Neymar</td>\n",
       "      <td>68</td>\n",
       "    </tr>\n",
       "  </tbody>\n",
       "</table>\n",
       "</div>"
      ],
      "text/plain": [
       "                             full_text  counts\n",
       "41527                @Bet9jaOfficial B     285\n",
       "22074                      @Bet9jaHelp     248\n",
       "42147                @Bet9jaOfficial C     218\n",
       "40552                @Bet9jaOfficial A     208\n",
       "48397            @Bet9jaOfficial Messi     123\n",
       "9937   @BBNaija @Bet9jaOfficial Bisola     117\n",
       "42043           @Bet9jaOfficial Brazil     111\n",
       "9187     @BBNaija @Bet9jaOfficial Alex      74\n",
       "46192              @Bet9jaOfficial Ike      74\n",
       "49098           @Bet9jaOfficial Neymar      68"
      ]
     },
     "execution_count": 10,
     "metadata": {},
     "output_type": "execute_result"
    }
   ],
   "source": [
    "# 10 most repeated tweets\n",
    "tweets.groupby(['full_text']).size().reset_index(name='counts')\\\n",
    "  .sort_values('counts', ascending=False).head(10)"
   ]
  },
  {
   "cell_type": "code",
   "execution_count": 11,
   "metadata": {
    "pycharm": {
     "is_executing": true
    }
   },
   "outputs": [
    {
     "data": {
      "image/png": "[encoded data removed]",
      "text/plain": [
       "<Figure size 432x288 with 1 Axes>"
      ]
     },
     "metadata": {
      "needs_background": "light"
     },
     "output_type": "display_data"
    }
   ],
   "source": [
    "# number of times each tweet appears\n",
    "counts = tweets.groupby(['full_text']).size()\\\n",
    "           .reset_index(name='counts')\\\n",
    "           .counts\n",
    "\n",
    "# define bins for histogram\n",
    "my_bins = np.arange(0,counts.max()+2, 1)-0.5\n",
    "\n",
    "# plot histogram of tweet counts\n",
    "plt.figure()\n",
    "plt.hist(counts, bins = my_bins)\n",
    "plt.xlabels = np.arange(1,counts.max()+1, 1)\n",
    "plt.xlabel('copies of each tweet')\n",
    "plt.ylabel('frequency')\n",
    "plt.yscale('log', nonposy='clip')\n",
    "plt.show()"
   ]
  },
  {
   "cell_type": "markdown",
   "metadata": {
    "pycharm": {
     "is_executing": true
    }
   },
   "source": [
    "Next we find out who is being tweeted at and the most common hashtags"
   ]
  },
  {
   "cell_type": "code",
   "execution_count": 12,
   "metadata": {},
   "outputs": [],
   "source": [
    "def find_retweeted(tweet):\n",
    "    '''This function will extract the twitter handles of retweed people'''\n",
    "    return re.findall('(?<=RT\\s)(@[A-Za-z]+[A-Za-z0-9-_]+)', tweet)\n",
    "\n",
    "def find_mentioned(tweet):\n",
    "    '''This function will extract the twitter handles of people mentioned in the tweet'''\n",
    "    return re.findall('(?<!RT\\s)(@[A-Za-z]+[A-Za-z0-9-_]+)', tweet)  \n",
    "\n",
    "def find_hashtags(tweet):\n",
    "    '''This function will extract hashtags'''\n",
    "    return re.findall('(#[A-Za-z]+[A-Za-z0-9-_]+)', tweet)   "
   ]
  },
  {
   "cell_type": "code",
   "execution_count": null,
   "metadata": {},
   "outputs": [],
   "source": []
  },
  {
   "cell_type": "code",
   "execution_count": 13,
   "metadata": {
    "scrolled": true
   },
   "outputs": [
    {
     "name": "stderr",
     "output_type": "stream",
     "text": [
      "/Users/sasu/Desktop/Dev/ashPartners/venv/lib/python3.7/site-packages/ipykernel_launcher.py:2: SettingWithCopyWarning: \n",
      "A value is trying to be set on a copy of a slice from a DataFrame.\n",
      "Try using .loc[row_indexer,col_indexer] = value instead\n",
      "\n",
      "See the caveats in the documentation: http://pandas.pydata.org/pandas-docs/stable/user_guide/indexing.html#returning-a-view-versus-a-copy\n",
      "  \n",
      "/Users/sasu/Desktop/Dev/ashPartners/venv/lib/python3.7/site-packages/ipykernel_launcher.py:3: SettingWithCopyWarning: \n",
      "A value is trying to be set on a copy of a slice from a DataFrame.\n",
      "Try using .loc[row_indexer,col_indexer] = value instead\n",
      "\n",
      "See the caveats in the documentation: http://pandas.pydata.org/pandas-docs/stable/user_guide/indexing.html#returning-a-view-versus-a-copy\n",
      "  This is separate from the ipykernel package so we can avoid doing imports until\n",
      "/Users/sasu/Desktop/Dev/ashPartners/venv/lib/python3.7/site-packages/ipykernel_launcher.py:4: SettingWithCopyWarning: \n",
      "A value is trying to be set on a copy of a slice from a DataFrame.\n",
      "Try using .loc[row_indexer,col_indexer] = value instead\n",
      "\n",
      "See the caveats in the documentation: http://pandas.pydata.org/pandas-docs/stable/user_guide/indexing.html#returning-a-view-versus-a-copy\n",
      "  after removing the cwd from sys.path.\n"
     ]
    }
   ],
   "source": [
    "# make new columns for retweeted usernames, mentioned usernames and hashtags\n",
    "tweets['retweeted'] = tweets.full_text.apply(find_retweeted)\n",
    "tweets['mentioned'] = tweets.full_text.apply(find_mentioned)\n",
    "tweets['hashtags'] = tweets.full_text.apply(find_hashtags)"
   ]
  },
  {
   "cell_type": "code",
   "execution_count": 53,
   "metadata": {},
   "outputs": [
    {
     "data": {
      "text/html": [
       "<div>\n",
       "<style scoped>\n",
       "    .dataframe tbody tr th:only-of-type {\n",
       "        vertical-align: middle;\n",
       "    }\n",
       "\n",
       "    .dataframe tbody tr th {\n",
       "        vertical-align: top;\n",
       "    }\n",
       "\n",
       "    .dataframe thead th {\n",
       "        text-align: right;\n",
       "    }\n",
       "</style>\n",
       "<table border=\"1\" class=\"dataframe\">\n",
       "  <thead>\n",
       "    <tr style=\"text-align: right;\">\n",
       "      <th></th>\n",
       "      <th>created_at</th>\n",
       "      <th>full_text</th>\n",
       "      <th>is_retweet</th>\n",
       "      <th>retweeted</th>\n",
       "      <th>mentioned</th>\n",
       "      <th>hashtags</th>\n",
       "    </tr>\n",
       "  </thead>\n",
       "  <tbody>\n",
       "    <tr>\n",
       "      <th>0</th>\n",
       "      <td>Sat Aug 24 05:28:19 +0000 2019</td>\n",
       "      <td>I have taken it up with @fccpcnigeria . Hopefu...</td>\n",
       "      <td>False</td>\n",
       "      <td>[]</td>\n",
       "      <td>[@fccpcnigeria, @fccpcnigeria]</td>\n",
       "      <td>[]</td>\n",
       "    </tr>\n",
       "    <tr>\n",
       "      <th>1</th>\n",
       "      <td>Sat Aug 24 05:22:35 +0000 2019</td>\n",
       "      <td>@sanctitybona @enugudisco @PowerUpNG @nepawaha...</td>\n",
       "      <td>False</td>\n",
       "      <td>[]</td>\n",
       "      <td>[@sanctitybona, @enugudisco, @PowerUpNG, @nepa...</td>\n",
       "      <td>[]</td>\n",
       "    </tr>\n",
       "    <tr>\n",
       "      <th>2</th>\n",
       "      <td>Fri Aug 09 18:01:30 +0000 2019</td>\n",
       "      <td>@ChickenRepublic Dear @fccpcnigeria kindly advise</td>\n",
       "      <td>False</td>\n",
       "      <td>[]</td>\n",
       "      <td>[@ChickenRepublic, @fccpcnigeria]</td>\n",
       "      <td>[]</td>\n",
       "    </tr>\n",
       "    <tr>\n",
       "      <th>3</th>\n",
       "      <td>Fri Aug 09 17:48:03 +0000 2019</td>\n",
       "      <td>@ChickenRepublic @CocaCola @CocaCola_NG @fccpc...</td>\n",
       "      <td>False</td>\n",
       "      <td>[]</td>\n",
       "      <td>[@ChickenRepublic, @CocaCola, @CocaCola_NG, @f...</td>\n",
       "      <td>[]</td>\n",
       "    </tr>\n",
       "    <tr>\n",
       "      <th>4</th>\n",
       "      <td>Fri Aug 09 17:47:12 +0000 2019</td>\n",
       "      <td>@ChickenRepublic @CocaCola @CocaCola_NG @fccpc...</td>\n",
       "      <td>False</td>\n",
       "      <td>[]</td>\n",
       "      <td>[@ChickenRepublic, @CocaCola, @CocaCola_NG, @f...</td>\n",
       "      <td>[]</td>\n",
       "    </tr>\n",
       "  </tbody>\n",
       "</table>\n",
       "</div>"
      ],
      "text/plain": [
       "                       created_at  \\\n",
       "0  Sat Aug 24 05:28:19 +0000 2019   \n",
       "1  Sat Aug 24 05:22:35 +0000 2019   \n",
       "2  Fri Aug 09 18:01:30 +0000 2019   \n",
       "3  Fri Aug 09 17:48:03 +0000 2019   \n",
       "4  Fri Aug 09 17:47:12 +0000 2019   \n",
       "\n",
       "                                           full_text  is_retweet retweeted  \\\n",
       "0  I have taken it up with @fccpcnigeria . Hopefu...       False        []   \n",
       "1  @sanctitybona @enugudisco @PowerUpNG @nepawaha...       False        []   \n",
       "2  @ChickenRepublic Dear @fccpcnigeria kindly advise       False        []   \n",
       "3  @ChickenRepublic @CocaCola @CocaCola_NG @fccpc...       False        []   \n",
       "4  @ChickenRepublic @CocaCola @CocaCola_NG @fccpc...       False        []   \n",
       "\n",
       "                                           mentioned hashtags  \n",
       "0                     [@fccpcnigeria, @fccpcnigeria]       []  \n",
       "1  [@sanctitybona, @enugudisco, @PowerUpNG, @nepa...       []  \n",
       "2                  [@ChickenRepublic, @fccpcnigeria]       []  \n",
       "3  [@ChickenRepublic, @CocaCola, @CocaCola_NG, @f...       []  \n",
       "4  [@ChickenRepublic, @CocaCola, @CocaCola_NG, @f...       []  "
      ]
     },
     "execution_count": 53,
     "metadata": {},
     "output_type": "execute_result"
    }
   ],
   "source": [
    "tweets.head()"
   ]
  },
  {
   "cell_type": "code",
   "execution_count": 17,
   "metadata": {},
   "outputs": [
    {
     "data": {
      "text/plain": [
       "False    200000\n",
       "Name: is_retweet, dtype: int64"
      ]
     },
     "execution_count": 17,
     "metadata": {},
     "output_type": "execute_result"
    }
   ],
   "source": [
    "tweets.is_retweet.value_counts()"
   ]
  },
  {
   "cell_type": "markdown",
   "metadata": {},
   "source": [
    "#### Handle Hashtags"
   ]
  },
  {
   "cell_type": "markdown",
   "metadata": {},
   "source": [
    "In this section we will perform an analysis on the hashtags. \n",
    "First we will select the column of hashtags from the dataframe, and take only the rows where there actually is a hashtag"
   ]
  },
  {
   "cell_type": "code",
   "execution_count": 19,
   "metadata": {},
   "outputs": [],
   "source": [
    "# take the rows from the hashtag columns where there are actually hashtags\n",
    "hashtags_list_df = tweets.loc[\n",
    "                       tweets.hashtags.apply(\n",
    "                           lambda hashtags_list: hashtags_list !=[]\n",
    "                       ),['hashtags']]"
   ]
  },
  {
   "cell_type": "code",
   "execution_count": 20,
   "metadata": {},
   "outputs": [
    {
     "data": {
      "text/html": [
       "<div>\n",
       "<style scoped>\n",
       "    .dataframe tbody tr th:only-of-type {\n",
       "        vertical-align: middle;\n",
       "    }\n",
       "\n",
       "    .dataframe tbody tr th {\n",
       "        vertical-align: top;\n",
       "    }\n",
       "\n",
       "    .dataframe thead th {\n",
       "        text-align: right;\n",
       "    }\n",
       "</style>\n",
       "<table border=\"1\" class=\"dataframe\">\n",
       "  <thead>\n",
       "    <tr style=\"text-align: right;\">\n",
       "      <th></th>\n",
       "      <th>hashtags</th>\n",
       "    </tr>\n",
       "  </thead>\n",
       "  <tbody>\n",
       "    <tr>\n",
       "      <th>13</th>\n",
       "      <td>[#polarisbank]</td>\n",
       "    </tr>\n",
       "    <tr>\n",
       "      <th>37</th>\n",
       "      <td>[#Thread]</td>\n",
       "    </tr>\n",
       "    <tr>\n",
       "      <th>50</th>\n",
       "      <td>[#IfNigeriaBeatsBrazil]</td>\n",
       "    </tr>\n",
       "    <tr>\n",
       "      <th>51</th>\n",
       "      <td>[#IfNigeriaBeatsBrazil]</td>\n",
       "    </tr>\n",
       "    <tr>\n",
       "      <th>56</th>\n",
       "      <td>[#GeminiManNowOut]</td>\n",
       "    </tr>\n",
       "  </tbody>\n",
       "</table>\n",
       "</div>"
      ],
      "text/plain": [
       "                   hashtags\n",
       "13           [#polarisbank]\n",
       "37                [#Thread]\n",
       "50  [#IfNigeriaBeatsBrazil]\n",
       "51  [#IfNigeriaBeatsBrazil]\n",
       "56       [#GeminiManNowOut]"
      ]
     },
     "execution_count": 20,
     "metadata": {},
     "output_type": "execute_result"
    }
   ],
   "source": [
    "hashtags_list_df.head()"
   ]
  },
  {
   "cell_type": "markdown",
   "metadata": {},
   "source": [
    "Currently each row contains a list of multiple values. Next we will make a new dataframe where we take all the hashtags in `hashtags_list_df` but give each its own row."
   ]
  },
  {
   "cell_type": "code",
   "execution_count": 21,
   "metadata": {},
   "outputs": [],
   "source": [
    "# create dataframe where each use of hashtag gets its own row\n",
    "flattened_hashtags_df = pd.DataFrame(\n",
    "    [hashtag for hashtags_list in hashtags_list_df.hashtags\n",
    "    for hashtag in hashtags_list],\n",
    "    columns=['hashtag'])"
   ]
  },
  {
   "cell_type": "code",
   "execution_count": 22,
   "metadata": {},
   "outputs": [
    {
     "data": {
      "text/html": [
       "<div>\n",
       "<style scoped>\n",
       "    .dataframe tbody tr th:only-of-type {\n",
       "        vertical-align: middle;\n",
       "    }\n",
       "\n",
       "    .dataframe tbody tr th {\n",
       "        vertical-align: top;\n",
       "    }\n",
       "\n",
       "    .dataframe thead th {\n",
       "        text-align: right;\n",
       "    }\n",
       "</style>\n",
       "<table border=\"1\" class=\"dataframe\">\n",
       "  <thead>\n",
       "    <tr style=\"text-align: right;\">\n",
       "      <th></th>\n",
       "      <th>hashtag</th>\n",
       "    </tr>\n",
       "  </thead>\n",
       "  <tbody>\n",
       "    <tr>\n",
       "      <th>0</th>\n",
       "      <td>#polarisbank</td>\n",
       "    </tr>\n",
       "    <tr>\n",
       "      <th>1</th>\n",
       "      <td>#Thread</td>\n",
       "    </tr>\n",
       "    <tr>\n",
       "      <th>2</th>\n",
       "      <td>#IfNigeriaBeatsBrazil</td>\n",
       "    </tr>\n",
       "    <tr>\n",
       "      <th>3</th>\n",
       "      <td>#IfNigeriaBeatsBrazil</td>\n",
       "    </tr>\n",
       "    <tr>\n",
       "      <th>4</th>\n",
       "      <td>#GeminiManNowOut</td>\n",
       "    </tr>\n",
       "  </tbody>\n",
       "</table>\n",
       "</div>"
      ],
      "text/plain": [
       "                 hashtag\n",
       "0           #polarisbank\n",
       "1                #Thread\n",
       "2  #IfNigeriaBeatsBrazil\n",
       "3  #IfNigeriaBeatsBrazil\n",
       "4       #GeminiManNowOut"
      ]
     },
     "execution_count": 22,
     "metadata": {},
     "output_type": "execute_result"
    }
   ],
   "source": [
    "flattened_hashtags_df.head()"
   ]
  },
  {
   "cell_type": "code",
   "execution_count": 23,
   "metadata": {},
   "outputs": [
    {
     "data": {
      "text/plain": [
       "13807"
      ]
     },
     "execution_count": 23,
     "metadata": {},
     "output_type": "execute_result"
    }
   ],
   "source": [
    "# number of unique hashtags\n",
    "flattened_hashtags_df['hashtag'].unique().size"
   ]
  },
  {
   "cell_type": "code",
   "execution_count": 24,
   "metadata": {},
   "outputs": [],
   "source": [
    "# count of appearances of each hashtag\n",
    "popular_hashtags = flattened_hashtags_df.groupby('hashtag').size()\\\n",
    "                                        .reset_index(name='counts')\\\n",
    "                                        .sort_values('counts', ascending=False)\\\n",
    "                                        .reset_index(drop=True)"
   ]
  },
  {
   "cell_type": "code",
   "execution_count": 25,
   "metadata": {},
   "outputs": [
    {
     "data": {
      "image/png": "[encoded data removed]",
      "text/plain": [
       "<Figure size 432x288 with 1 Axes>"
      ]
     },
     "metadata": {
      "needs_background": "light"
     },
     "output_type": "display_data"
    }
   ],
   "source": [
    "# number of times each hashtag appears\n",
    "counts = flattened_hashtags_df.groupby(['hashtag']).size()\\\n",
    "                              .reset_index(name='counts')\\\n",
    "                              .counts\n",
    "\n",
    "# define bins for histogram                              \n",
    "my_bins = np.arange(0,counts.max()+2, 5)-0.5\n",
    "\n",
    "# plot histogram of tweet counts\n",
    "plt.figure()\n",
    "plt.hist(counts, bins = my_bins)\n",
    "plt.xlabels = np.arange(1,counts.max()+1, 1)\n",
    "plt.xlabel('hashtag number of appearances')\n",
    "plt.ylabel('frequency')\n",
    "plt.yscale('log', nonposy='clip')\n",
    "plt.show()"
   ]
  },
  {
   "cell_type": "markdown",
   "metadata": {},
   "source": [
    "#### Handle Mentioned"
   ]
  },
  {
   "cell_type": "code",
   "execution_count": 29,
   "metadata": {},
   "outputs": [],
   "source": [
    "# take the rows from the hashtag columns where there are actually hashtags\n",
    "mentioned_list_df = tweets.loc[\n",
    "                       tweets.mentioned.apply(\n",
    "                           lambda hashtags_list: hashtags_list !=[]\n",
    "                       ),['mentioned']]"
   ]
  },
  {
   "cell_type": "code",
   "execution_count": 31,
   "metadata": {},
   "outputs": [
    {
     "data": {
      "text/html": [
       "<div>\n",
       "<style scoped>\n",
       "    .dataframe tbody tr th:only-of-type {\n",
       "        vertical-align: middle;\n",
       "    }\n",
       "\n",
       "    .dataframe tbody tr th {\n",
       "        vertical-align: top;\n",
       "    }\n",
       "\n",
       "    .dataframe thead th {\n",
       "        text-align: right;\n",
       "    }\n",
       "</style>\n",
       "<table border=\"1\" class=\"dataframe\">\n",
       "  <thead>\n",
       "    <tr style=\"text-align: right;\">\n",
       "      <th></th>\n",
       "      <th>mentioned</th>\n",
       "    </tr>\n",
       "  </thead>\n",
       "  <tbody>\n",
       "    <tr>\n",
       "      <th>0</th>\n",
       "      <td>[@fccpcnigeria, @fccpcnigeria]</td>\n",
       "    </tr>\n",
       "    <tr>\n",
       "      <th>1</th>\n",
       "      <td>[@sanctitybona, @enugudisco, @PowerUpNG, @nepa...</td>\n",
       "    </tr>\n",
       "    <tr>\n",
       "      <th>2</th>\n",
       "      <td>[@ChickenRepublic, @fccpcnigeria]</td>\n",
       "    </tr>\n",
       "    <tr>\n",
       "      <th>3</th>\n",
       "      <td>[@ChickenRepublic, @CocaCola, @CocaCola_NG, @f...</td>\n",
       "    </tr>\n",
       "    <tr>\n",
       "      <th>4</th>\n",
       "      <td>[@ChickenRepublic, @CocaCola, @CocaCola_NG, @f...</td>\n",
       "    </tr>\n",
       "  </tbody>\n",
       "</table>\n",
       "</div>"
      ],
      "text/plain": [
       "                                           mentioned\n",
       "0                     [@fccpcnigeria, @fccpcnigeria]\n",
       "1  [@sanctitybona, @enugudisco, @PowerUpNG, @nepa...\n",
       "2                  [@ChickenRepublic, @fccpcnigeria]\n",
       "3  [@ChickenRepublic, @CocaCola, @CocaCola_NG, @f...\n",
       "4  [@ChickenRepublic, @CocaCola, @CocaCola_NG, @f..."
      ]
     },
     "execution_count": 31,
     "metadata": {},
     "output_type": "execute_result"
    }
   ],
   "source": [
    "mentioned_list_df.head()"
   ]
  },
  {
   "cell_type": "markdown",
   "metadata": {},
   "source": [
    "Currently each row contains a list of multiple values. Next block we will make a new dataframe where we take all the mentioned in `mentioned_list_df` but give each its own row."
   ]
  },
  {
   "cell_type": "code",
   "execution_count": 33,
   "metadata": {},
   "outputs": [],
   "source": [
    "# create dataframe where each use of hashtag gets its own row\n",
    "flattened_mentioned_df = pd.DataFrame(\n",
    "    [mentioned for mentioned_list in mentioned_list_df.mentioned\n",
    "    for mentioned in mentioned_list],\n",
    "    columns=['mentioned'])"
   ]
  },
  {
   "cell_type": "code",
   "execution_count": 34,
   "metadata": {},
   "outputs": [
    {
     "data": {
      "text/html": [
       "<div>\n",
       "<style scoped>\n",
       "    .dataframe tbody tr th:only-of-type {\n",
       "        vertical-align: middle;\n",
       "    }\n",
       "\n",
       "    .dataframe tbody tr th {\n",
       "        vertical-align: top;\n",
       "    }\n",
       "\n",
       "    .dataframe thead th {\n",
       "        text-align: right;\n",
       "    }\n",
       "</style>\n",
       "<table border=\"1\" class=\"dataframe\">\n",
       "  <thead>\n",
       "    <tr style=\"text-align: right;\">\n",
       "      <th></th>\n",
       "      <th>mentioned</th>\n",
       "    </tr>\n",
       "  </thead>\n",
       "  <tbody>\n",
       "    <tr>\n",
       "      <th>0</th>\n",
       "      <td>@fccpcnigeria</td>\n",
       "    </tr>\n",
       "    <tr>\n",
       "      <th>1</th>\n",
       "      <td>@fccpcnigeria</td>\n",
       "    </tr>\n",
       "    <tr>\n",
       "      <th>2</th>\n",
       "      <td>@sanctitybona</td>\n",
       "    </tr>\n",
       "    <tr>\n",
       "      <th>3</th>\n",
       "      <td>@enugudisco</td>\n",
       "    </tr>\n",
       "    <tr>\n",
       "      <th>4</th>\n",
       "      <td>@PowerUpNG</td>\n",
       "    </tr>\n",
       "  </tbody>\n",
       "</table>\n",
       "</div>"
      ],
      "text/plain": [
       "       mentioned\n",
       "0  @fccpcnigeria\n",
       "1  @fccpcnigeria\n",
       "2  @sanctitybona\n",
       "3    @enugudisco\n",
       "4     @PowerUpNG"
      ]
     },
     "execution_count": 34,
     "metadata": {},
     "output_type": "execute_result"
    }
   ],
   "source": [
    "flattened_mentioned_df.head()"
   ]
  },
  {
   "cell_type": "markdown",
   "metadata": {},
   "source": [
    "Currently each row contains a list of multiple values. Next block we will make a new dataframe where we take all the hashtags in `hashtags_list_df` but give each its own row."
   ]
  },
  {
   "cell_type": "code",
   "execution_count": 35,
   "metadata": {},
   "outputs": [
    {
     "data": {
      "text/plain": [
       "38359"
      ]
     },
     "execution_count": 35,
     "metadata": {},
     "output_type": "execute_result"
    }
   ],
   "source": [
    "# number of unique hashtags\n",
    "flattened_mentioned_df['mentioned'].unique().size"
   ]
  },
  {
   "cell_type": "code",
   "execution_count": 36,
   "metadata": {},
   "outputs": [],
   "source": [
    "# count of appearances of each hashtag\n",
    "popular_mentioned = flattened_mentioned_df.groupby('mentioned').size()\\\n",
    "                                        .reset_index(name='counts')\\\n",
    "                                        .sort_values('counts', ascending=False)\\\n",
    "                                        .reset_index(drop=True)"
   ]
  },
  {
   "cell_type": "code",
   "execution_count": 37,
   "metadata": {},
   "outputs": [
    {
     "data": {
      "image/png": "[encoded data removed]",
      "text/plain": [
       "<Figure size 432x288 with 1 Axes>"
      ]
     },
     "metadata": {
      "needs_background": "light"
     },
     "output_type": "display_data"
    }
   ],
   "source": [
    "# number of times each hashtag appears\n",
    "counts = flattened_mentioned_df.groupby(['mentioned']).size()\\\n",
    "                              .reset_index(name='counts')\\\n",
    "                              .counts\n",
    "\n",
    "# define bins for histogram                              \n",
    "my_bins = np.arange(0,counts.max()+2, 5)-0.5\n",
    "\n",
    "# plot histogram of tweet counts\n",
    "plt.figure()\n",
    "plt.hist(counts, bins = my_bins)\n",
    "plt.xlabels = np.arange(1,counts.max()+1, 1)\n",
    "plt.xlabel('mentioned number of appearances')\n",
    "plt.ylabel('frequency')\n",
    "plt.yscale('log', nonposy='clip')\n",
    "plt.show()"
   ]
  },
  {
   "cell_type": "markdown",
   "metadata": {},
   "source": [
    "#### Find Correlated Hashtags\n",
    "\n",
    "We will need to turn the text into numeric form. It is possible to do this by transforming from a list of hashtags to a vector representing which hashtags appeared in which rows. "
   ]
  },
  {
   "cell_type": "code",
   "execution_count": 44,
   "metadata": {},
   "outputs": [],
   "source": [
    "# take hashtags which appear at least this amount of times\n",
    "min_appearance = 1000\n",
    "# find popular hashtags - make into python set for efficiency\n",
    "popular_hashtags_set = set(popular_hashtags[\n",
    "                           popular_hashtags.counts>=min_appearance\n",
    "                           ]['hashtag'])"
   ]
  },
  {
   "cell_type": "markdown",
   "metadata": {},
   "source": [
    "Next we are going to create a new column in `hashtags_df` which filters the hashtags to only the popular hashtags. We will also drop the rows where no popular hashtags appear."
   ]
  },
  {
   "cell_type": "code",
   "execution_count": 45,
   "metadata": {},
   "outputs": [],
   "source": [
    "# make a new column with only the popular hashtags\n",
    "hashtags_list_df['popular_hashtags'] = hashtags_list_df.hashtags.apply(\n",
    "            lambda hashtag_list: [hashtag for hashtag in hashtag_list\n",
    "                                  if hashtag in popular_hashtags_set])\n",
    "# drop rows without popular hashtag\n",
    "popular_hashtags_list_df = hashtags_list_df.loc[\n",
    "            hashtags_list_df.popular_hashtags.apply(lambda hashtag_list: hashtag_list !=[])]\n"
   ]
  },
  {
   "cell_type": "code",
   "execution_count": 46,
   "metadata": {},
   "outputs": [
    {
     "data": {
      "text/plain": [
       "15561"
      ]
     },
     "execution_count": 46,
     "metadata": {},
     "output_type": "execute_result"
    }
   ],
   "source": [
    "len(popular_hashtags_list_df)"
   ]
  },
  {
   "cell_type": "markdown",
   "metadata": {},
   "source": [
    "Next we want to vectorise our the hashtags in each tweet like mentioned above. To do this, we create a dataframe where the hashtags contained in each row are in vector form"
   ]
  },
  {
   "cell_type": "code",
   "execution_count": 47,
   "metadata": {},
   "outputs": [],
   "source": [
    "# make new dataframe\n",
    "hashtag_vector_df = popular_hashtags_list_df.loc[:, ['popular_hashtags']]\n",
    "\n",
    "for hashtag in popular_hashtags_set:\n",
    "    # make columns to encode presence of hashtags\n",
    "    hashtag_vector_df['{}'.format(hashtag)] = hashtag_vector_df.popular_hashtags.apply(\n",
    "        lambda hashtag_list: int(hashtag in hashtag_list))"
   ]
  },
  {
   "cell_type": "code",
   "execution_count": 48,
   "metadata": {},
   "outputs": [
    {
     "data": {
      "text/html": [
       "<div>\n",
       "<style scoped>\n",
       "    .dataframe tbody tr th:only-of-type {\n",
       "        vertical-align: middle;\n",
       "    }\n",
       "\n",
       "    .dataframe tbody tr th {\n",
       "        vertical-align: top;\n",
       "    }\n",
       "\n",
       "    .dataframe thead th {\n",
       "        text-align: right;\n",
       "    }\n",
       "</style>\n",
       "<table border=\"1\" class=\"dataframe\">\n",
       "  <thead>\n",
       "    <tr style=\"text-align: right;\">\n",
       "      <th></th>\n",
       "      <th>popular_hashtags</th>\n",
       "      <th>#Bet9ja</th>\n",
       "      <th>#bwin</th>\n",
       "      <th>#bovada</th>\n",
       "      <th>#sportpesa</th>\n",
       "      <th>#williamhill</th>\n",
       "      <th>#BET9JA</th>\n",
       "      <th>#Bet9jaBBN</th>\n",
       "      <th>#bbnaija</th>\n",
       "      <th>#bet9ja</th>\n",
       "      <th>#bet365</th>\n",
       "      <th>#merrybet</th>\n",
       "      <th>#nairabet</th>\n",
       "      <th>#soccer</th>\n",
       "      <th>#bet</th>\n",
       "      <th>#BBNaija</th>\n",
       "      <th>#soccer24</th>\n",
       "    </tr>\n",
       "  </thead>\n",
       "  <tbody>\n",
       "    <tr>\n",
       "      <th>72</th>\n",
       "      <td>[#BBNaija]</td>\n",
       "      <td>0</td>\n",
       "      <td>0</td>\n",
       "      <td>0</td>\n",
       "      <td>0</td>\n",
       "      <td>0</td>\n",
       "      <td>0</td>\n",
       "      <td>0</td>\n",
       "      <td>0</td>\n",
       "      <td>0</td>\n",
       "      <td>0</td>\n",
       "      <td>0</td>\n",
       "      <td>0</td>\n",
       "      <td>0</td>\n",
       "      <td>0</td>\n",
       "      <td>1</td>\n",
       "      <td>0</td>\n",
       "    </tr>\n",
       "    <tr>\n",
       "      <th>76</th>\n",
       "      <td>[#BBNaija]</td>\n",
       "      <td>0</td>\n",
       "      <td>0</td>\n",
       "      <td>0</td>\n",
       "      <td>0</td>\n",
       "      <td>0</td>\n",
       "      <td>0</td>\n",
       "      <td>0</td>\n",
       "      <td>0</td>\n",
       "      <td>0</td>\n",
       "      <td>0</td>\n",
       "      <td>0</td>\n",
       "      <td>0</td>\n",
       "      <td>0</td>\n",
       "      <td>0</td>\n",
       "      <td>1</td>\n",
       "      <td>0</td>\n",
       "    </tr>\n",
       "    <tr>\n",
       "      <th>130</th>\n",
       "      <td>[#bwin, #bet365, #bet9ja]</td>\n",
       "      <td>0</td>\n",
       "      <td>1</td>\n",
       "      <td>0</td>\n",
       "      <td>0</td>\n",
       "      <td>0</td>\n",
       "      <td>0</td>\n",
       "      <td>0</td>\n",
       "      <td>0</td>\n",
       "      <td>1</td>\n",
       "      <td>1</td>\n",
       "      <td>0</td>\n",
       "      <td>0</td>\n",
       "      <td>0</td>\n",
       "      <td>0</td>\n",
       "      <td>0</td>\n",
       "      <td>0</td>\n",
       "    </tr>\n",
       "    <tr>\n",
       "      <th>223</th>\n",
       "      <td>[#bbnaija]</td>\n",
       "      <td>0</td>\n",
       "      <td>0</td>\n",
       "      <td>0</td>\n",
       "      <td>0</td>\n",
       "      <td>0</td>\n",
       "      <td>0</td>\n",
       "      <td>0</td>\n",
       "      <td>1</td>\n",
       "      <td>0</td>\n",
       "      <td>0</td>\n",
       "      <td>0</td>\n",
       "      <td>0</td>\n",
       "      <td>0</td>\n",
       "      <td>0</td>\n",
       "      <td>0</td>\n",
       "      <td>0</td>\n",
       "    </tr>\n",
       "    <tr>\n",
       "      <th>242</th>\n",
       "      <td>[#BBNaija]</td>\n",
       "      <td>0</td>\n",
       "      <td>0</td>\n",
       "      <td>0</td>\n",
       "      <td>0</td>\n",
       "      <td>0</td>\n",
       "      <td>0</td>\n",
       "      <td>0</td>\n",
       "      <td>0</td>\n",
       "      <td>0</td>\n",
       "      <td>0</td>\n",
       "      <td>0</td>\n",
       "      <td>0</td>\n",
       "      <td>0</td>\n",
       "      <td>0</td>\n",
       "      <td>1</td>\n",
       "      <td>0</td>\n",
       "    </tr>\n",
       "  </tbody>\n",
       "</table>\n",
       "</div>"
      ],
      "text/plain": [
       "              popular_hashtags  #Bet9ja  #bwin  #bovada  #sportpesa  \\\n",
       "72                  [#BBNaija]        0      0        0           0   \n",
       "76                  [#BBNaija]        0      0        0           0   \n",
       "130  [#bwin, #bet365, #bet9ja]        0      1        0           0   \n",
       "223                 [#bbnaija]        0      0        0           0   \n",
       "242                 [#BBNaija]        0      0        0           0   \n",
       "\n",
       "     #williamhill  #BET9JA  #Bet9jaBBN  #bbnaija  #bet9ja  #bet365  #merrybet  \\\n",
       "72              0        0           0         0        0        0          0   \n",
       "76              0        0           0         0        0        0          0   \n",
       "130             0        0           0         0        1        1          0   \n",
       "223             0        0           0         1        0        0          0   \n",
       "242             0        0           0         0        0        0          0   \n",
       "\n",
       "     #nairabet  #soccer  #bet  #BBNaija  #soccer24  \n",
       "72           0        0     0         1          0  \n",
       "76           0        0     0         1          0  \n",
       "130          0        0     0         0          0  \n",
       "223          0        0     0         0          0  \n",
       "242          0        0     0         1          0  "
      ]
     },
     "execution_count": 48,
     "metadata": {},
     "output_type": "execute_result"
    }
   ],
   "source": [
    "hashtag_vector_df.head()"
   ]
  },
  {
   "cell_type": "code",
   "execution_count": 49,
   "metadata": {},
   "outputs": [],
   "source": [
    "# Drop popular_hashtags columns\n",
    "hashtag_matrix = hashtag_vector_df.drop('popular_hashtags', axis=1)"
   ]
  },
  {
   "cell_type": "code",
   "execution_count": 51,
   "metadata": {},
   "outputs": [
    {
     "data": {
      "image/png": "[encoded data removed]",
      "text/plain": [
       "<Figure size 720x720 with 2 Axes>"
      ]
     },
     "metadata": {
      "needs_background": "light"
     },
     "output_type": "display_data"
    }
   ],
   "source": [
    "# calculate the correlation matrix\n",
    "correlations = hashtag_matrix.corr()\n",
    "\n",
    "# plot the correlation matrix\n",
    "plt.figure(figsize=(10,10))\n",
    "sns.heatmap(correlations,\n",
    "    cmap='RdBu',\n",
    "    vmin=-1,\n",
    "    vmax=1,\n",
    "    square = True,\n",
    "    cbar_kws={'label':'correlation'})\n",
    "plt.show()"
   ]
  },
  {
   "cell_type": "code",
   "execution_count": 52,
   "metadata": {},
   "outputs": [],
   "source": [
    "# save tweets df to disk\n",
    "tweets.to_csv('data/tweets.csv')"
   ]
  },
  {
   "cell_type": "code",
   "execution_count": null,
   "metadata": {},
   "outputs": [],
   "source": []
  }
 ],
 "metadata": {
  "kernelspec": {
   "display_name": "PyCharm (ashPartners)",
   "language": "python",
   "name": "pycharm-7098f16b"
  },
  "language_info": {
   "codemirror_mode": {
    "name": "ipython",
    "version": 3
   },
   "file_extension": ".py",
   "mimetype": "text/x-python",
   "name": "python",
   "nbconvert_exporter": "python",
   "pygments_lexer": "ipython3",
   "version": "3.7.4"
  },
  "pycharm": {
   "stem_cell": {
    "cell_type": "raw",
    "metadata": {
     "collapsed": false
    },
    "source": []
   }
  }
 },
 "nbformat": 4,
 "nbformat_minor": 1
}
